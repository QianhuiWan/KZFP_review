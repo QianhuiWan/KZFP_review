{
 "cells": [
  {
   "cell_type": "markdown",
   "id": "e54bfde0-bf3e-4234-a2af-a393829fb572",
   "metadata": {},
   "source": [
    "# test code for cancer KZFP figure: figure 4 for KZFP review paper:\n",
    "- load softwares needed\n",
    "- "
   ]
  },
  {
   "cell_type": "code",
   "execution_count": 1,
   "id": "45c52616-1a5d-43f7-a6aa-1f96559c1a7e",
   "metadata": {},
   "outputs": [
    {
     "name": "stderr",
     "output_type": "stream",
     "text": [
      "Matplotlib is building the font cache; this may take a moment.\n"
     ]
    }
   ],
   "source": [
    "import pandas as pd\n",
    "import matplotlib.pyplot as plt\n",
    "import matplotlib.patches as patches\n",
    "from bisect import bisect_left"
   ]
  },
  {
   "cell_type": "code",
   "execution_count": 3,
   "id": "b6520fff-9f3a-44a4-bfd8-44c93274d2bb",
   "metadata": {},
   "outputs": [
    {
     "name": "stdout",
     "output_type": "stream",
     "text": [
      "why\n"
     ]
    }
   ],
   "source": [
    "print(\"why\")"
   ]
  }
 ],
 "metadata": {
  "kernelspec": {
   "display_name": "Python(kzfp_review)",
   "language": "python",
   "name": "kzfp_review"
  },
  "language_info": {
   "codemirror_mode": {
    "name": "ipython",
    "version": 3
   },
   "file_extension": ".py",
   "mimetype": "text/x-python",
   "name": "python",
   "nbconvert_exporter": "python",
   "pygments_lexer": "ipython3",
   "version": "3.11.13"
  }
 },
 "nbformat": 4,
 "nbformat_minor": 5
}
